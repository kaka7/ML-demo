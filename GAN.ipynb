{
 "cells": [
  {
   "cell_type": "markdown",
   "metadata": {
    "collapsed": true
   },
   "source": [
    "* 目的：通过已有真是数据（分布未知）生成新的数据（传统意义上是为了求真实数据的分布参数）\n",
    "* 问题：数据有，但是真实分布（类型和参数）未知\n",
    "* 拟合真实数据分布的方法（学习分布的参数）：用NN来拟合（学习）给定真实data下数据为真的条件概率p(Y|X)（通过非监督学习，d输出维度是1 ,表示概率，准确来说是将真实数据输出为1，生成数据输出为0，使得d有这个能力的nn参数），那么这个nn(d)就能够判断data是否真实，（不能理解为真实分布的参数，因为d的输出维度是1，不等于g的输出维度）（万能的高斯，为啥不直接用高斯分布来拟合数据）\n",
    "* 做法：所以我们需要两个nn（g，d），g来学习的分布，d来判断分布是否真实，但是分布的的参数不需要求出来（目的是生成图像，不是学习生成模型的参数），然后反复进行生成图像，判断概率的循环中，从而学习数据的分布，也可理解为监督学习\n",
    "* 难点：度量两个分布之间的相似度->KL Divergence ，没有分布的参数，你如何求\n",
    "* 想法：不求真实数据的参数，而是直接暴力的拟合原始数据（学习分布的参数，参数用nn结构来模拟代替）\n",
    "* 过程：\n",
    "        1)从噪声中采样m个z_data，送入nn中的得到g（z_data），从真实数据中采样m个x_data\n",
    "\t2)将g(z_data)和x_data送入d中，使得d这个nn学习具备判断数据是否来自真是数据的分布中的能力所对应的网络参数\n",
    "* 优化函数的推导：x_data and g(z_data)送入d中，利用MLE 的交叉熵损失函数求得min_max目标函数"
   ]
  },
  {
   "cell_type": "markdown",
   "metadata": {},
   "source": [
    "* 损失函数的理解\n",
    "* 1 损失函数可人为定义，根据不同的优化对象\n",
    "* 2 同事训练两个模型，使得所有的，g，d中的得到唯一均衡解，p_g=P_data;且d（data）处处为0.5\n",
    "* 积分的极值转化为被积函数的极值\n",
    "博弈思想：同事优化D"
   ]
  },
  {
   "cell_type": "markdown",
   "metadata": {},
   "source": [
    "* 得到分布的变换\n",
    "* 度量两个分布之间的距离-》KL devergience 不知道具体的分布表达式\n",
    "* 直接用NN来把这个度量训练出来"
   ]
  },
  {
   "cell_type": "markdown",
   "metadata": {},
   "source": [
    "#VAE"
   ]
  },
  {
   "cell_type": "markdown",
   "metadata": {},
   "source": [
    "* 目的：生产给定特征的新样本（学习分布。实际是用NN来模拟）\n",
    "* 背景：AE不能生产新的\n",
    "* 措施：假设p(z|x)为标准正太分布（NN的强大拟合能力），一方面保证噪声为均值为0（方差为1：对噪声的强度）且模型具有生成能力（p(z)he p(x|z)同分布），所以需要一个额外的计算p(z|x)与标准正太分布的差异的度量-》KL divergence ，但是p(z|x)未知，所以就用NN拟合，同时使用标准正太分布也适合求最值，\n",
    "* 对抗的过程：重构误差是为了让均值方差均为0，而KL diversionce目的是让均值为0 方差为1\n",
    "* encoder 目的是计算均值和方差，decoder是目的是重构\n",
    "* 这里用NN来模拟概率密度函数，就体现变分的思想\n",
    "* 重参数\n",
    "* 均值方差是两个分布"
   ]
  },
  {
   "cell_type": "code",
   "execution_count": null,
   "metadata": {},
   "outputs": [],
   "source": []
  }
 ],
 "metadata": {
  "kernelspec": {
   "display_name": "Python 2",
   "language": "python",
   "name": "python2"
  },
  "language_info": {
   "codemirror_mode": {
    "name": "ipython",
    "version": 2
   },
   "file_extension": ".py",
   "mimetype": "text/x-python",
   "name": "python",
   "nbconvert_exporter": "python",
   "pygments_lexer": "ipython2",
   "version": "2.7.6"
  }
 },
 "nbformat": 4,
 "nbformat_minor": 0
}
