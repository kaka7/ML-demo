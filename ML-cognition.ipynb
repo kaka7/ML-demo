{
 "cells": [
  {
   "cell_type": "markdown",
   "metadata": {
    "collapsed": true
   },
   "source": [
    "# 损失函数:可自定义，但是要可导(所以错误率才不可作为损失函数)，这样才可以学习"
   ]
  },
  {
   "cell_type": "markdown",
   "metadata": {},
   "source": [
    "#统计学习的目的：学习一个假设空间（模型）的参数，使其在数据集上损失函数即目标函数（策略）小，也就是误差小，错误率低，即为表现的好，然后如何使损失函数减小，就要用到优化方法（方法）"
   ]
  },
  {
   "cell_type": "markdown",
   "metadata": {},
   "source": [
    "##0-1损失:\n",
    "##平方差损失:回归模型（）\n",
    "##绝对值损失\n",
    "##对数似然损失：分类模型（adaboost，ID3）"
   ]
  },
  {
   "cell_type": "markdown",
   "metadata": {},
   "source": [
    "##明确几个问题\n",
    "* input ，output\n",
    "* 模型的假设,input假设\n",
    "* 学习啥\n",
    "* 目标函数(损失函数）,优化方法 \n",
    "\n"
   ]
  },
  {
   "cell_type": "code",
   "execution_count": null,
   "metadata": {},
   "outputs": [],
   "source": []
  }
 ],
 "metadata": {
  "kernelspec": {
   "display_name": "Python 2",
   "language": "python",
   "name": "python2"
  },
  "language_info": {
   "codemirror_mode": {
    "name": "ipython",
    "version": 2
   },
   "file_extension": ".py",
   "mimetype": "text/x-python",
   "name": "python",
   "nbconvert_exporter": "python",
   "pygments_lexer": "ipython2",
   "version": "2.7.6"
  }
 },
 "nbformat": 4,
 "nbformat_minor": 0
}
