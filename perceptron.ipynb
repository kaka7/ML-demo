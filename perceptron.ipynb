{
 "cells": [
  {
   "cell_type": "code",
   "execution_count": 1,
   "metadata": {
    "collapsed": true
   },
   "outputs": [],
   "source": [
    "import numpy as np\n",
    "data=np.array([(3,3,1),\n",
    "               (4,3,1),\n",
    "               (1,1,-1)])\n",
    "n_samples=len(data)\n",
    "x=data[0:n_samples,0:-1]\n",
    "y=data[0:n_samples,-1]\n",
    "dim_samples=np.shape(x)[1]\n",
    "\n",
    "# 1\n",
    "w=np.zeros((dim_samples,1))\n",
    "b=0"
   ]
  },
  {
   "cell_type": "code",
   "execution_count": 2,
   "metadata": {},
   "outputs": [
    {
     "name": "stdout",
     "output_type": "stream",
     "text": [
      "[[ 0.2]\n [ 0.1]] [-0.3]\n"
     ]
    }
   ],
   "source": [
    "# x=iter(x)#yield 是iter的特例\n",
    "# y=iter(y)\n",
    "# # while True:\n",
    "# for i in range(10):\n",
    "#     x_i=next(x)\n",
    "#     y_i=next(y)\n",
    "#     print x_i,y_i\n",
    "\n",
    "# 矩阵相乘\n",
    "# a1=mat([1,2]);\n",
    "# a2=mat([[1],[2]]);\n",
    "# a3=a1*a2;\n",
    "# #1*2的矩阵乘以2*1的矩阵，得到1*1的矩阵\n",
    "# 矩阵对应元素相乘\n",
    "# a1=mat([1,1]);\n",
    "# a2=mat([2,2]);\n",
    "# a3=multiply(a1,a2);\n",
    "\n",
    "lr=0.1\n",
    "# while True:\n",
    "for i in range(50):\n",
    "    index=np.random.randint(0,3,1)\n",
    "    # loss=y[index]*(x[index]*w+b)\n",
    "    loss=y[index]*np.sum(x[index]*w.T+b)#这里是array的点乘，非matrix的矩阵乘 可将array转化为matrix\n",
    "    if loss<=0:\n",
    "        w+=lr*y[index]*x[index].T\n",
    "        b+=lr*y[index]\n",
    "print w,b"
   ]
  },
  {
   "cell_type": "markdown",
   "metadata": {},
   "source": [
    "$$\\min _{w,b}L\\left( w,b\\right) =-\\sum _{x_{i}\\subset M}y_{i}\\left( wx_{i}+b\\right)$$"
   ]
  },
  {
   "cell_type": "code",
   "execution_count": null,
   "metadata": {},
   "outputs": [],
   "source": []
  }
 ],
 "metadata": {
  "kernelspec": {
   "display_name": "Python 2",
   "language": "python",
   "name": "python2"
  },
  "language_info": {
   "codemirror_mode": {
    "name": "ipython",
    "version": 2
   },
   "file_extension": ".py",
   "mimetype": "text/x-python",
   "name": "python",
   "nbconvert_exporter": "python",
   "pygments_lexer": "ipython2",
   "version": "2.7.6"
  }
 },
 "nbformat": 4,
 "nbformat_minor": 0
}
